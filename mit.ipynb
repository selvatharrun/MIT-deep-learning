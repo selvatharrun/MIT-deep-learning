{
 "cells": [
  {
   "cell_type": "code",
   "execution_count": 1,
   "metadata": {},
   "outputs": [],
   "source": [
    "#building a neural network\n",
    "import tensorflow as tf\n",
    "class mydesnelayer(tf.keras.layers.Layer):\n",
    "    def __init__(self,input_dim,output_dim):\n",
    "        super(mydesnelayer,self).__init__()\n",
    "\n",
    "        #weights and biases\n",
    "        self.w = self.add_weight((input_dim,output_dim))\n",
    "        self.b = self.add_weight((1,output_dim))\n",
    "\n",
    "    def call(self,inputs):\n",
    "        #weights and inputs being calculated\n",
    "        z = tf.matmul(inputs,self.w) + self.b\n",
    "        #putting it in a non-linear function\n",
    "        output = tf.sigmoid(z)\n",
    "\n",
    "        return output"
   ]
  },
  {
   "cell_type": "code",
   "execution_count": null,
   "metadata": {},
   "outputs": [],
   "source": [
    "import tensorflow as tf\n",
    "#sequential layer stacking\n",
    "model = tf.keras.Sequential([\n",
    "    tf.keras.layers.Dense(n),\n",
    "    tf.keras.layers.Dense(2)\n",
    "])"
   ]
  },
  {
   "cell_type": "code",
   "execution_count": null,
   "metadata": {},
   "outputs": [],
   "source": [
    "#loss function\n",
    "lf = tf.reduce_mean(tf.square(tf.subract(y,predcited)))"
   ]
  },
  {
   "cell_type": "code",
   "execution_count": null,
   "metadata": {},
   "outputs": [],
   "source": [
    "#gradient descent\n",
    "\n",
    "#choose random weights to begin with\n",
    "weights = tf.Variable(tf.random.normal())\n",
    "\n",
    "while true:\n",
    "    with tf.GradientTape() as g:\n",
    "        #calculates loss\n",
    "        loss = compute_loss(weights)\n",
    "        #calculates gradient￼\n",
    "        gradient = gradient(loss,weights)\n",
    "    \n",
    "    weights = weights - lr*gradient"
   ]
  },
  {
   "cell_type": "code",
   "execution_count": null,
   "metadata": {},
   "outputs": [],
   "source": [
    "import tensorflow as tf\n",
    "\n",
    "model = tf.keras.Sequential([...])\n",
    "\n",
    "#pick optimizer\n",
    "optimizer = tf.keras.optimizers.SGD(learning_rate=0.01)\n",
    "\n",
    "while True:\n",
    "    \n",
    "    #forward pass\n",
    "    prediction = model(x)\n",
    "    \n",
    "    with tf.GradientTape() as g:\n",
    "        #calculates loss\n",
    "        loss = compute_loss(weights)\n",
    "    \n",
    "    #update the weights using the gradient\n",
    "    grads = tape.gradient(loss,model.trainable_variables)\n",
    "    #apply gradient to weights\n",
    "    optimizer.apply_gradients(zip(grads,model.trainable_variables))"
   ]
  },
  {
   "cell_type": "code",
   "execution_count": null,
   "metadata": {},
   "outputs": [],
   "source": [
    "#RNN \n",
    "my_rnn = RNN()\n",
    "hidden_state = [0,0,0,0]\n",
    "\n",
    "sentence = [\"I\",\"love\",\"recurrent\",\"neural\",\"networks\"]\n",
    "\n",
    "for word in sentence:\n",
    "    prediction,hidden_state = my_rnn(word,hidden_state)\n",
    "\n",
    "next_word_prediction = prediction\n"
   ]
  },
  {
   "cell_type": "code",
   "execution_count": null,
   "metadata": {},
   "outputs": [],
   "source": [
    "class MyRNNcell(tf.keras.layers.Layer):\n",
    "    def __init__(self,input_dim,output_dim):\n",
    "        super(MyRNNcell,self).__init__()\n",
    "\n",
    "        #intialize weight matrices\n",
    "        self.w = self.add_weight([rnn_units,input_dim])\n",
    "        self.u = self.add_weight([rnn_units,rnn_units])\n",
    "        self.b = self.add_weight(([output_dim,rnn_units]))\n",
    "\n",
    "        #initialize the hidden state to zeroes \n",
    "        self.h = tf.zeroes(rnn_units,1)\n",
    "\n",
    "    def call(self,x,h):\n",
    "\n",
    "        #update the hidden state\n",
    "        self.h = tf.math.tanh(self.w_hh*self.h + self.w_xh*x)\n",
    "\n",
    "        #compute the output\n",
    "        output = self.w_hy*self.h\n",
    "\n",
    "        #output\n",
    "        return output,self.h"
   ]
  },
  {
   "cell_type": "code",
   "execution_count": null,
   "metadata": {},
   "outputs": [],
   "source": [
    "#regularization for generalizing data\n",
    "tf.keras.layers,Dropout(p=0.3)"
   ]
  },
  {
   "cell_type": "code",
   "execution_count": 1,
   "metadata": {},
   "outputs": [
    {
     "name": "stderr",
     "output_type": "stream",
     "text": [
      "2024-03-04 12:03:35.778368: I tensorflow/core/util/port.cc:113] oneDNN custom operations are on. You may see slightly different numerical results due to floating-point round-off errors from different computation orders. To turn them off, set the environment variable `TF_ENABLE_ONEDNN_OPTS=0`.\n",
      "2024-03-04 12:03:35.805015: I external/local_tsl/tsl/cuda/cudart_stub.cc:31] Could not find cuda drivers on your machine, GPU will not be used.\n",
      "2024-03-04 12:03:35.950634: E external/local_xla/xla/stream_executor/cuda/cuda_dnn.cc:9261] Unable to register cuDNN factory: Attempting to register factory for plugin cuDNN when one has already been registered\n",
      "2024-03-04 12:03:35.950708: E external/local_xla/xla/stream_executor/cuda/cuda_fft.cc:607] Unable to register cuFFT factory: Attempting to register factory for plugin cuFFT when one has already been registered\n",
      "2024-03-04 12:03:35.974115: E external/local_xla/xla/stream_executor/cuda/cuda_blas.cc:1515] Unable to register cuBLAS factory: Attempting to register factory for plugin cuBLAS when one has already been registered\n",
      "2024-03-04 12:03:36.024024: I external/local_tsl/tsl/cuda/cudart_stub.cc:31] Could not find cuda drivers on your machine, GPU will not be used.\n",
      "2024-03-04 12:03:36.025212: I tensorflow/core/platform/cpu_feature_guard.cc:182] This TensorFlow binary is optimized to use available CPU instructions in performance-critical operations.\n",
      "To enable the following instructions: AVX2 AVX512F AVX512_VNNI FMA, in other operations, rebuild TensorFlow with the appropriate compiler flags.\n",
      "2024-03-04 12:03:37.515361: W tensorflow/compiler/tf2tensorrt/utils/py_utils.cc:38] TF-TRT Warning: Could not find TensorRT\n"
     ]
    }
   ],
   "source": [
    "import tensorflow as tf"
   ]
  }
 ],
 "metadata": {
  "kernelspec": {
   "display_name": "Python 3",
   "language": "python",
   "name": "python3"
  },
  "language_info": {
   "codemirror_mode": {
    "name": "ipython",
    "version": 3
   },
   "file_extension": ".py",
   "mimetype": "text/x-python",
   "name": "python",
   "nbconvert_exporter": "python",
   "pygments_lexer": "ipython3",
   "version": "3.11.6"
  }
 },
 "nbformat": 4,
 "nbformat_minor": 2
}
